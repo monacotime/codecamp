{
 "cells": [
  {
   "cell_type": "code",
   "execution_count": 6,
   "metadata": {},
   "outputs": [],
   "source": [
    "from heapq import *\n"
   ]
  },
  {
   "cell_type": "markdown",
   "metadata": {},
   "source": [
    "### implementing min-heap and max-heap "
   ]
  },
  {
   "cell_type": "code",
   "execution_count": 15,
   "metadata": {},
   "outputs": [
    {
     "name": "stdout",
     "output_type": "stream",
     "text": [
      "min-heap: [1, 2, 4, 5, 8, 9]\n",
      "max-heap [-1, -2, -4, -5, -8, -9]\n",
      "largest no., i.e. root of max-heap: 1\n"
     ]
    }
   ],
   "source": [
    "a=[1,5,4,2,8,9]\n",
    "heapq.heapify(a) #will get min-heap\n",
    "print(\"min-heap:\",a)\n",
    "a=[(-1)*i for i in a] #multiplied each element by -1\n",
    "# print(a) \n",
    "heapq.heapify(a) #will get max-heap\n",
    "print(\"max-heap\",a)\n",
    "print(\"largest no., i.e. root of max-heap:\", -a[0]) #largest number"
   ]
  },
  {
   "cell_type": "markdown",
   "metadata": {},
   "source": [
    "# HEAP\n",
    "\n",
    "\n",
    "### 1046. Last Stone Weight\n",
    "We have a collection of stones, each stone has a positive integer weight.\n",
    "\n",
    "Each turn, we choose the two heaviest stones and smash them together.  Suppose the stones have weights x and y with x <= y.  \n",
    "The result of this smash is:\n",
    "\n",
    "If x == y, both stones are totally destroyed;\n",
    "If x != y, the stone of weight x is totally destroyed, and the stone of weight y has new weight y-x.\n",
    "At the end, there is at most 1 stone left.  Return the weight of this stone (or 0 if there are no stones left.)\n"
   ]
  },
  {
   "cell_type": "code",
   "execution_count": 10,
   "metadata": {},
   "outputs": [
    {
     "name": "stdout",
     "output_type": "stream",
     "text": [
      "[1, 1, 2, 7, 8, 4]\n"
     ]
    }
   ],
   "source": [
    "stones=[2,7,4,1,8,1]\n",
    "heapq.heapify(stones)\n",
    "print(stones)"
   ]
  },
  {
   "cell_type": "code",
   "execution_count": 12,
   "metadata": {},
   "outputs": [
    {
     "name": "stdout",
     "output_type": "stream",
     "text": [
      "8 7\n",
      "4 2\n",
      "2 1\n",
      "1 1\n"
     ]
    }
   ],
   "source": [
    "while len(stones)>1:\n",
    "    x,y=heapq.nlargest(2,stones) #gives 2 largest elements from the heap\n",
    "    print(x,y)\n",
    "    #remove the 2 largest values from the heap\n",
    "    stones.remove(x)\n",
    "    stones.remove(y)\n",
    "    if(x!=y):\n",
    "        heapq.heappush(stones,x-y) #heappush will push the given value and heapify the heap again with the new value"
   ]
  },
  {
   "cell_type": "code",
   "execution_count": 13,
   "metadata": {},
   "outputs": [
    {
     "name": "stdout",
     "output_type": "stream",
     "text": [
      "1\n"
     ]
    }
   ],
   "source": [
    "if len(stones):         #if stones is not empty return the final value, else return 0\n",
    "    print(stones[0])\n",
    "else:\n",
    "    print(0)         "
   ]
  },
  {
   "cell_type": "code",
   "execution_count": null,
   "metadata": {},
   "outputs": [],
   "source": []
  }
 ],
 "metadata": {
  "kernelspec": {
   "display_name": "Python 3",
   "language": "python",
   "name": "python3"
  },
  "language_info": {
   "codemirror_mode": {
    "name": "ipython",
    "version": 3
   },
   "file_extension": ".py",
   "mimetype": "text/x-python",
   "name": "python",
   "nbconvert_exporter": "python",
   "pygments_lexer": "ipython3",
   "version": "3.8.5"
  }
 },
 "nbformat": 4,
 "nbformat_minor": 4
}
